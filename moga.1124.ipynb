{
 "cells": [
  {
   "cell_type": "code",
   "execution_count": 1,
   "metadata": {},
   "outputs": [],
   "source": [
    "# load libs\n",
    "import torch\n",
    "import torch.nn as nn\n",
    "import torch.optim as optim\n",
    "from torch.utils.data import DataLoader, Dataset\n",
    "import numpy as np\n",
    "import random\n",
    "import matplotlib.pyplot as plt\n",
    "import pickle"
   ]
  },
  {
   "cell_type": "code",
   "execution_count": 2,
   "metadata": {},
   "outputs": [],
   "source": [
    "# definition of a simple fc model [11, 32, 64, 1]\n",
    "class MOGANet(nn.Module):\n",
    "    def __init__(self):\n",
    "        super(MOGANet, self).__init__()\n",
    "        self.fc = nn.Sequential(\n",
    "            nn.Linear(11, 32),\n",
    "            nn.ReLU(inplace=True),\n",
    "            nn.Linear(32, 64),\n",
    "            nn.ReLU(inplace=True),\n",
    "            nn.Linear(64, 1),\n",
    "        )\n",
    "        \n",
    "    def forward(self, x):\n",
    "        x = self.fc(x)\n",
    "        return x\n",
    "\n",
    "class MOGADataset(Dataset):\n",
    "    def __init__(self, x_tensor, y_tensor):\n",
    "        self.x = x_tensor\n",
    "        self.y = y_tensor\n",
    "    \n",
    "    def __len__(self):\n",
    "        return len(self.x)\n",
    "        \n",
    "    def __getitem__(self, index):\n",
    "        return (self.x[index], self.y[index])"
   ]
  },
  {
   "cell_type": "code",
   "execution_count": 3,
   "metadata": {},
   "outputs": [],
   "source": [
    "# define train and test functions\n",
    "def train(model, device, train_loader, optimizer, criterion):\n",
    "    model.train()\n",
    "    train_loss = 0\n",
    "    \n",
    "    for x, y in train_loader:\n",
    "        x = x.to(device)\n",
    "        y = y.to(device)\n",
    "\n",
    "        # compute output\n",
    "        outputs = model(x)\n",
    "        loss = criterion(outputs, y)\n",
    "        train_loss += loss.item()\n",
    "        \n",
    "        # compute gradient and do SGD step\n",
    "        optimizer.zero_grad()\n",
    "        loss.backward()\n",
    "        optimizer.step()\n",
    "        \n",
    "    train_loss /= len(train_loader)\n",
    "    return train_loss\n",
    "\n",
    "def test(model, device, test_loader, criterion):\n",
    "    model.eval()\n",
    "    test_loss = 0\n",
    "    \n",
    "    with torch.no_grad():\n",
    "        for x, y in test_loader:\n",
    "            x = x.to(device)\n",
    "            y = y.to(device)\n",
    "            \n",
    "            # compute output\n",
    "            outputs = model(x)\n",
    "            loss = criterion(outputs, y)\n",
    "            test_loss += loss.item()\n",
    "            \n",
    "    test_loss /= len(test_loader)\n",
    "    return test_loss"
   ]
  },
  {
   "cell_type": "code",
   "execution_count": 4,
   "metadata": {},
   "outputs": [],
   "source": [
    "# Use CUDA\n",
    "#use_cuda = torch.cuda.is_available()\n",
    "device = torch.device(\"cpu\")\n",
    "\n",
    "random.seed(2020) \n",
    "torch.manual_seed(2020)\n",
    "torch.cuda.manual_seed_all(2020)\n",
    "\n",
    "# load files\n",
    "moga = pickle.load(open(\"moga.1124.pkl\", \"rb\"))\n",
    "x_train, x_test = moga[\"x_train\"], moga[\"x_test\"]\n",
    "y_train, y_test = moga[\"y_train\"], moga[\"y_test\"]\n",
    "x_mean, x_std = moga[\"x_mean\"], moga[\"x_std\"]\n",
    "\n",
    "x_train = torch.from_numpy(x_train).float()\n",
    "y_train = torch.from_numpy(y_train.reshape(-1,1)).float()\n",
    "x_test = torch.from_numpy(x_test).float()\n",
    "y_test = torch.from_numpy(y_test.reshape(-1,1)).float()"
   ]
  },
  {
   "cell_type": "code",
   "execution_count": 5,
   "metadata": {},
   "outputs": [],
   "source": [
    "# Parameters\n",
    "params = {'batch_size': 128,\n",
    "          'shuffle': True,\n",
    "          'num_workers': 4}\n",
    "\n",
    "# dataloader\n",
    "train_data = MOGADataset(x_train, y_train)\n",
    "train_loader = DataLoader(dataset=train_data, **params)\n",
    "\n",
    "test_data = MOGADataset(x_test, y_test)\n",
    "test_loader = DataLoader(dataset=test_data, **params)"
   ]
  },
  {
   "cell_type": "code",
   "execution_count": 6,
   "metadata": {},
   "outputs": [],
   "source": [
    "model = MOGANet().to(device)\n",
    "criterion = nn.MSELoss()\n",
    "optimizer = optim.Adam(model.parameters(), lr=1e-3)\n",
    "scheduler = optim.lr_scheduler.ReduceLROnPlateau(optimizer, mode='min', factor=0.5)"
   ]
  },
  {
   "cell_type": "code",
   "execution_count": 7,
   "metadata": {},
   "outputs": [
    {
     "name": "stdout",
     "output_type": "stream",
     "text": [
      "0 41561.79951450893 17064.875842786816\n",
      "10 4912.997950892857 4751.409397072988\n",
      "20 3043.4708401227676 2979.469516423195\n",
      "30 2587.493134626116 2566.7010537064784\n",
      "40 2368.476823939732 2337.0326919904037\n",
      "50 2198.9168706752234 2256.1039938730737\n",
      "60 2037.407510811942 2045.8355305989583\n",
      "70 1920.9855355050224 1908.0574332459332\n",
      "80 1827.966616001674 1797.967608726188\n",
      "90 1761.6059404296875 1759.6377100835653\n",
      "100 1715.4111295340401 1696.9055554812358\n",
      "110 1667.6949478236606 1664.726537417059\n",
      "120 1636.1306626674107 1633.2547114124036\n",
      "130 1599.2803205217633 1608.3891857965896\n",
      "140 1567.909443080357 1553.1547882219427\n",
      "150 1539.10854296875 1584.5309144459902\n",
      "160 1508.6625570591518 1510.2007805811215\n",
      "170 1483.8326665039062 1485.5103458770334\n",
      "180 1461.0060693359376 1479.2421300879353\n",
      "190 1442.2249988839285 1470.5338045581834\n",
      "200 1419.8944181780134 1433.633814145441\n",
      "210 1406.1452518833705 1403.046456393586\n",
      "220 1390.5721168387277 1387.799412000125\n",
      "230 1368.7904418247767 1379.4396986591216\n",
      "240 1355.7110758231026 1354.0581043539526\n",
      "250 1337.8884060058595 1341.2361461343287\n",
      "260 1328.7910977260044 1320.3061161128353\n",
      "270 1312.6988874860492 1318.91396913572\n",
      "280 1302.6943420758928 1320.5415197921127\n",
      "290 1290.6600428989955 1299.8729599208048\n",
      "300 1282.9969647739956 1286.1913488379353\n",
      "310 1272.214529157366 1299.0479864529823\n",
      "320 1261.5544324776786 1265.5390959439212\n",
      "330 1249.3800311802456 1256.7689744087115\n",
      "340 1237.3920234375 1242.0239578316746\n",
      "350 1224.547898297991 1238.4294823772832\n",
      "360 1218.9855665108817 1219.6823931132278\n",
      "370 1212.3602565569197 1210.8176734959154\n",
      "380 1206.978823032924 1214.7061126569636\n",
      "390 1178.9116779087612 1208.7706900818707\n",
      "400 1176.0286110491072 1187.6494045867223\n",
      "410 1163.9561126534597 1179.5516558085403\n",
      "420 1162.5924015415737 1185.1797340427904\n",
      "430 1156.1239092145647 1177.8581329763751\n",
      "440 1155.1052996651786 1175.8467265089898\n",
      "450 1152.2147329799107 1171.5747951002427\n",
      "460 1151.4864543108258 1171.1877109754032\n",
      "470 1149.4483663853237 1171.349997881885\n",
      "480 1149.2188684779576 1169.762381497039\n",
      "490 1148.3329629255022 1170.389108318172\n"
     ]
    }
   ],
   "source": [
    "# Training here\n",
    "for t in range(500):\n",
    "    train_loss = train(model, device, train_loader, optimizer, criterion) \n",
    "    test_loss = test(model, device, test_loader, criterion)\n",
    "    if t%10 == 0:\n",
    "        print(t, train_loss, test_loss)\n",
    "    \n",
    "    scheduler.step(test_loss)"
   ]
  },
  {
   "cell_type": "code",
   "execution_count": 8,
   "metadata": {},
   "outputs": [],
   "source": [
    "# save trained model\n",
    "torch.save(model.state_dict(), 'moga-1124.pth')"
   ]
  },
  {
   "cell_type": "code",
   "execution_count": 9,
   "metadata": {},
   "outputs": [
    {
     "name": "stdout",
     "output_type": "stream",
     "text": [
      "test MSE from criterion\n",
      "1169.5052490234375\n",
      "test RMSE of original data\n",
      "34.19802989973893\n"
     ]
    }
   ],
   "source": [
    "model.eval()\n",
    "Yp = model(x_test)\n",
    "print(\"test MSE from criterion\")\n",
    "MSE = criterion(Yp, y_test).item()\n",
    "print(MSE)\n",
    "\n",
    "Yp = Yp[:,0].detach().numpy()\n",
    "y_test = y_test[:,0].detach().numpy()\n",
    "\n",
    "delta_y = Yp - y_test\n",
    "RMSE = np.sqrt(MSE)\n",
    "print(\"test RMSE of original data\")\n",
    "print(RMSE)"
   ]
  },
  {
   "cell_type": "code",
   "execution_count": 10,
   "metadata": {},
   "outputs": [
    {
     "data": {
      "image/png": "[encoded data removed]",
      "text/plain": [
       "<Figure size 432x288 with 1 Axes>"
      ]
     },
     "metadata": {
      "needs_background": "light"
     },
     "output_type": "display_data"
    }
   ],
   "source": [
    "# plot RMSE\n",
    "plt.figure(figsize=(6,4))\n",
    "num_bins = 200\n",
    "plt.hist(delta_y, num_bins, facecolor='blue')\n",
    "plt.xlabel('Prediction Error')\n",
    "plt.xlim(-200,200)\n",
    "plt.grid(True)\n",
    "plt.title('RMSE: %.4f, N=%d' % (RMSE,len(x_test)))\n",
    "plt.show()"
   ]
  },
  {
   "cell_type": "code",
   "execution_count": 11,
   "metadata": {},
   "outputs": [
    {
     "name": "stdout",
     "output_type": "stream",
     "text": [
      "254.60405\n",
      "-233.75337\n",
      "0.0 -1171.5212\n"
     ]
    }
   ],
   "source": [
    "# check mean ans std\n",
    "print(np.std(y_test))\n",
    "print(np.mean(y_test))\n",
    "print(max(y_test), min(y_test))"
   ]
  },
  {
   "cell_type": "code",
   "execution_count": 12,
   "metadata": {},
   "outputs": [
    {
     "data": {
      "image/png": "[encoded data removed]",
      "text/plain": [
       "<Figure size 936x288 with 1 Axes>"
      ]
     },
     "metadata": {
      "needs_background": "light"
     },
     "output_type": "display_data"
    }
   ],
   "source": [
    "# Viz Yp and |Error|\n",
    "l = np.array([x for x in range(len(y_test))])\n",
    "plt.figure(figsize=(13,4))\n",
    "plt.title(\"Blue:Predicted, Red:|Error|\")\n",
    "plt.plot(l, Yp, 'b-', linewidth=1)\n",
    "plt.plot(l, abs(delta_y), 'r-', linewidth=1)\n",
    "plt.grid(True)\n",
    "plt.show()"
   ]
  },
  {
   "cell_type": "code",
   "execution_count": 13,
   "metadata": {},
   "outputs": [
    {
     "data": {
      "image/png": "[encoded data removed]",
      "text/plain": [
       "<Figure size 432x288 with 1 Axes>"
      ]
     },
     "metadata": {
      "needs_background": "light"
     },
     "output_type": "display_data"
    }
   ],
   "source": [
    "# Viz y_test hist\n",
    "plt.figure(figsize=(6,4))\n",
    "num_bins = 200\n",
    "plt.hist(y_test, num_bins, facecolor='blue')\n",
    "plt.xlabel('Y_test histogram')\n",
    "plt.grid(True)\n",
    "plt.show()"
   ]
  },
  {
   "cell_type": "code",
   "execution_count": null,
   "metadata": {},
   "outputs": [],
   "source": []
  }
 ],
 "metadata": {
  "kernelspec": {
   "display_name": "Python 3",
   "language": "python",
   "name": "python3"
  },
  "language_info": {
   "codemirror_mode": {
    "name": "ipython",
    "version": 3
   },
   "file_extension": ".py",
   "mimetype": "text/x-python",
   "name": "python",
   "nbconvert_exporter": "python",
   "pygments_lexer": "ipython3",
   "version": "3.7.5"
  }
 },
 "nbformat": 4,
 "nbformat_minor": 4
}
