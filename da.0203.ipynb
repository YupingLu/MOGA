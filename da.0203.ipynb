{
 "cells": [
  {
   "cell_type": "code",
   "execution_count": 1,
   "metadata": {},
   "outputs": [],
   "source": [
    "# load libs\n",
    "import torch\n",
    "import torch.nn as nn\n",
    "import torch.optim as optim\n",
    "from torch.utils.data import DataLoader, Dataset\n",
    "import numpy as np\n",
    "import random\n",
    "import matplotlib.pyplot as plt\n",
    "import pickle"
   ]
  },
  {
   "cell_type": "code",
   "execution_count": 2,
   "metadata": {},
   "outputs": [],
   "source": [
    "# definition of a simple fc model [2, 32, 64, 1]\n",
    "class MOGANet(nn.Module):\n",
    "    def __init__(self):\n",
    "        super(MOGANet, self).__init__()\n",
    "        self.fc = nn.Sequential(\n",
    "            nn.Linear(2, 32),\n",
    "            nn.ReLU(inplace=True),\n",
    "            nn.Linear(32, 64),\n",
    "            nn.ReLU(inplace=True),\n",
    "            nn.Linear(64, 1),\n",
    "        )\n",
    "        \n",
    "    def forward(self, x):\n",
    "        x = self.fc(x)\n",
    "        return x\n",
    "\n",
    "class MOGADataset(Dataset):\n",
    "    def __init__(self, x_tensor, y_tensor):\n",
    "        self.x = x_tensor\n",
    "        self.y = y_tensor\n",
    "    \n",
    "    def __len__(self):\n",
    "        return len(self.x)\n",
    "        \n",
    "    def __getitem__(self, index):\n",
    "        return (self.x[index], self.y[index])"
   ]
  },
  {
   "cell_type": "code",
   "execution_count": 3,
   "metadata": {},
   "outputs": [],
   "source": [
    "# define train and test functions\n",
    "def train(model, device, train_loader, optimizer, criterion):\n",
    "    model.train()\n",
    "    train_loss = 0\n",
    "    \n",
    "    for x, y in train_loader:\n",
    "        x = x.to(device)\n",
    "        y = y.to(device)\n",
    "\n",
    "        # compute output\n",
    "        outputs = model(x)\n",
    "        loss = criterion(outputs, y)\n",
    "        train_loss += loss.item()\n",
    "        \n",
    "        # compute gradient and do SGD step\n",
    "        optimizer.zero_grad()\n",
    "        loss.backward()\n",
    "        optimizer.step()\n",
    "        \n",
    "    train_loss /= len(train_loader)\n",
    "    return train_loss\n",
    "\n",
    "def test(model, device, test_loader, criterion):\n",
    "    model.eval()\n",
    "    test_loss = 0\n",
    "    \n",
    "    with torch.no_grad():\n",
    "        for x, y in test_loader:\n",
    "            x = x.to(device)\n",
    "            y = y.to(device)\n",
    "            \n",
    "            # compute output\n",
    "            outputs = model(x)\n",
    "            loss = criterion(outputs, y)\n",
    "            test_loss += loss.item()\n",
    "            \n",
    "    test_loss /= len(test_loader)\n",
    "    return test_loss"
   ]
  },
  {
   "cell_type": "code",
   "execution_count": 4,
   "metadata": {},
   "outputs": [],
   "source": [
    "# Use CUDA\n",
    "device = torch.device(\"cpu\")\n",
    "\n",
    "random.seed(2020) \n",
    "torch.manual_seed(2020)\n",
    "torch.cuda.manual_seed_all(2020)\n",
    "\n",
    "# load files\n",
    "moga = pickle.load(open(\"moga.0203.pkl\", \"rb\"))\n",
    "x_train, x_test = moga[\"x_train\"], moga[\"x_test\"]\n",
    "y_train, y_test = moga[\"y_train\"], moga[\"y_test\"]\n",
    "x_mean, x_std = moga[\"x_mean\"], moga[\"x_std\"]\n",
    "\n",
    "x_train = torch.from_numpy(x_train).float()\n",
    "y_train = torch.from_numpy(y_train.reshape(-1,1)).float()\n",
    "x_test = torch.from_numpy(x_test).float()\n",
    "y_test = torch.from_numpy(y_test.reshape(-1,1)).float()"
   ]
  },
  {
   "cell_type": "code",
   "execution_count": 5,
   "metadata": {},
   "outputs": [],
   "source": [
    "# Parameters\n",
    "params = {'batch_size': 128,\n",
    "          'shuffle': True,\n",
    "          'num_workers': 4}\n",
    "\n",
    "# dataloader\n",
    "train_data = MOGADataset(x_train, y_train)\n",
    "train_loader = DataLoader(dataset=train_data, **params)\n",
    "\n",
    "test_data = MOGADataset(x_test, y_test)\n",
    "test_loader = DataLoader(dataset=test_data, **params)"
   ]
  },
  {
   "cell_type": "code",
   "execution_count": 6,
   "metadata": {},
   "outputs": [],
   "source": [
    "model = MOGANet().to(device)\n",
    "criterion = nn.MSELoss()\n",
    "optimizer = optim.Adam(model.parameters(), lr=1e-3)\n",
    "scheduler = optim.lr_scheduler.ReduceLROnPlateau(optimizer, mode='min', factor=0.5)"
   ]
  },
  {
   "cell_type": "code",
   "execution_count": 7,
   "metadata": {},
   "outputs": [
    {
     "name": "stdout",
     "output_type": "stream",
     "text": [
      "0 214900.7722939597 6907.966853383252\n",
      "10 427.7645770540927 430.55339350785744\n",
      "20 370.88494488404336 380.15869460630296\n",
      "30 348.8338858518399 350.260547959896\n",
      "40 339.1858156561775 335.8534088525016\n",
      "50 328.9967548372802 328.3622290569803\n",
      "60 320.96744372855375 318.5830489058629\n",
      "70 316.87047507102415 321.39886974129837\n",
      "80 314.50290475407246 316.11563176694125\n",
      "90 313.4117554257638 332.77822942319125\n",
      "100 311.81051018752123 310.5206064677909\n",
      "110 310.5181230678058 308.9691210110169\n",
      "120 305.81201937255076 312.54780851788536\n",
      "130 305.25086395205096 305.0913718533333\n",
      "140 302.83034898559026 304.3519323402658\n",
      "150 302.2444958824114 302.6499821499485\n",
      "160 301.1706103265705 302.2883201267408\n",
      "170 301.0588080857095 301.80157872660993\n",
      "180 300.7491135453842 301.5747495685392\n",
      "190 300.589775373443 301.3481330188644\n",
      "200 300.50399047109613 302.9345127115469\n",
      "210 299.8665379422335 301.01805181088656\n",
      "220 299.81215936681514 300.6061288194583\n",
      "230 299.5918574708437 300.44709762222016\n",
      "240 299.41721815034816 300.36964229183735\n",
      "250 299.31709236833274 300.3033395752578\n",
      "260 299.340698271475 300.36461984775866\n",
      "270 299.2874912742766 300.2659725959953\n",
      "280 299.29828459775683 300.24096991887785\n",
      "290 299.24357540547965 300.30475333523566\n",
      "300 299.2789738338419 300.3881036314513\n",
      "310 299.27008024424373 300.36766684451675\n",
      "320 299.22946855248506 300.2861753107642\n",
      "330 299.2657847926164 300.2352319507648\n",
      "340 299.26376533142206 300.36895962688317\n",
      "350 299.2483820899968 300.38396163120905\n",
      "360 299.23184788875375 300.2645522407864\n",
      "370 299.2965945526338 300.2796607054103\n",
      "380 299.2522935629349 300.30906735783645\n",
      "390 299.2623331725254 300.288608951032\n",
      "400 299.26139879379224 300.36666671089506\n",
      "410 299.25009135748434 300.2363440472147\n",
      "420 299.29844185212295 300.2544668836667\n",
      "430 299.245351467999 300.2971249943804\n",
      "440 299.2540452582517 300.26402481742525\n",
      "450 299.22969746360855 300.3507737649981\n",
      "460 299.25607965607253 300.2968968149951\n",
      "470 299.2573891979566 300.27607430460506\n",
      "480 299.26842068741126 300.3148620683519\n",
      "490 299.25639221230455 300.31327546648964\n"
     ]
    }
   ],
   "source": [
    "# Training here\n",
    "for t in range(500):\n",
    "    train_loss = train(model, device, train_loader, optimizer, criterion) \n",
    "    test_loss = test(model, device, test_loader, criterion)\n",
    "    if t%10 == 0:\n",
    "        print(t, train_loss, test_loss)\n",
    "    \n",
    "    scheduler.step(test_loss)"
   ]
  },
  {
   "cell_type": "code",
   "execution_count": 9,
   "metadata": {},
   "outputs": [],
   "source": [
    "# save trained model\n",
    "torch.save(model.state_dict(), 'moga-0203.pth')\n",
    "#model.load_state_dict(torch.load(\"moga-0203.pth\"))"
   ]
  },
  {
   "cell_type": "code",
   "execution_count": 10,
   "metadata": {},
   "outputs": [
    {
     "name": "stdout",
     "output_type": "stream",
     "text": [
      "test MSE from criterion\n",
      "300.3089904785156\n",
      "test RMSE of original data\n",
      "17.32942556689389\n"
     ]
    }
   ],
   "source": [
    "model.eval()\n",
    "Yp = model(x_test)\n",
    "print(\"test MSE from criterion\")\n",
    "MSE = criterion(Yp, y_test).item()\n",
    "print(MSE)\n",
    "\n",
    "Yp = Yp[:,0].detach().numpy()\n",
    "y_test = y_test[:,0].detach().numpy()\n",
    "\n",
    "delta_y = Yp - y_test\n",
    "RMSE = np.sqrt(MSE)\n",
    "print(\"test RMSE of original data\")\n",
    "print(RMSE)"
   ]
  },
  {
   "cell_type": "code",
   "execution_count": 12,
   "metadata": {},
   "outputs": [
    {
     "data": {
      "image/png": "[encoded data removed]",
      "text/plain": [
       "<Figure size 432x288 with 1 Axes>"
      ]
     },
     "metadata": {
      "needs_background": "light"
     },
     "output_type": "display_data"
    }
   ],
   "source": [
    "# plot RMSE\n",
    "plt.figure(figsize=(6,4))\n",
    "num_bins = 200\n",
    "plt.hist(delta_y, num_bins, facecolor='blue')\n",
    "plt.xlabel('Prediction Error')\n",
    "plt.xlim(-100,100)\n",
    "plt.grid(True)\n",
    "plt.title('RMSE: %.4f, N=%d' % (RMSE,len(x_test)))\n",
    "plt.show()"
   ]
  },
  {
   "cell_type": "code",
   "execution_count": 13,
   "metadata": {},
   "outputs": [
    {
     "name": "stdout",
     "output_type": "stream",
     "text": [
      "112.775635\n",
      "-944.71313\n",
      "0.0 -1015.97565\n"
     ]
    }
   ],
   "source": [
    "# check mean ans std\n",
    "print(np.std(y_test))\n",
    "print(np.mean(y_test))\n",
    "print(max(y_test), min(y_test))"
   ]
  },
  {
   "cell_type": "code",
   "execution_count": 14,
   "metadata": {},
   "outputs": [
    {
     "data": {
      "image/png": "[encoded data removed]",
      "text/plain": [
       "<Figure size 936x288 with 1 Axes>"
      ]
     },
     "metadata": {
      "needs_background": "light"
     },
     "output_type": "display_data"
    }
   ],
   "source": [
    "# Viz Yp and |Error|\n",
    "l = np.array([x for x in range(len(y_test))])\n",
    "plt.figure(figsize=(13,4))\n",
    "plt.title(\"Blue:Predicted, Red:|Error|\")\n",
    "plt.plot(l, Yp, 'b-', linewidth=1)\n",
    "plt.plot(l, abs(delta_y), 'r-', linewidth=1)\n",
    "plt.grid(True)\n",
    "plt.show()"
   ]
  },
  {
   "cell_type": "code",
   "execution_count": 15,
   "metadata": {},
   "outputs": [
    {
     "data": {
      "image/png": "[encoded data removed]",
      "text/plain": [
       "<Figure size 432x288 with 1 Axes>"
      ]
     },
     "metadata": {
      "needs_background": "light"
     },
     "output_type": "display_data"
    }
   ],
   "source": [
    "# Viz y_test hist\n",
    "plt.figure(figsize=(6,4))\n",
    "num_bins = 200\n",
    "plt.hist(y_test, num_bins, facecolor='blue')\n",
    "plt.xlabel('Y_test histogram')\n",
    "plt.grid(True)\n",
    "plt.show()"
   ]
  },
  {
   "cell_type": "code",
   "execution_count": null,
   "metadata": {},
   "outputs": [],
   "source": []
  }
 ],
 "metadata": {
  "kernelspec": {
   "display_name": "Python 3",
   "language": "python",
   "name": "python3"
  },
  "language_info": {
   "codemirror_mode": {
    "name": "ipython",
    "version": 3
   },
   "file_extension": ".py",
   "mimetype": "text/x-python",
   "name": "python",
   "nbconvert_exporter": "python",
   "pygments_lexer": "ipython3",
   "version": "3.7.5"
  }
 },
 "nbformat": 4,
 "nbformat_minor": 4
}
