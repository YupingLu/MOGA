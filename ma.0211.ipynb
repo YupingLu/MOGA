{
 "cells": [
  {
   "cell_type": "code",
   "execution_count": 1,
   "metadata": {},
   "outputs": [],
   "source": [
    "# load libs\n",
    "import torch\n",
    "import torch.nn as nn\n",
    "import torch.optim as optim\n",
    "from torch.utils.data import DataLoader, Dataset\n",
    "import numpy as np\n",
    "import random\n",
    "import matplotlib.pyplot as plt\n",
    "import pickle"
   ]
  },
  {
   "cell_type": "code",
   "execution_count": 2,
   "metadata": {},
   "outputs": [],
   "source": [
    "# definition of a simple fc model [2, 32, 64, 1]\n",
    "class MOGANet(nn.Module):\n",
    "    def __init__(self):\n",
    "        super(MOGANet, self).__init__()\n",
    "        self.fc = nn.Sequential(\n",
    "            nn.Linear(2, 32),\n",
    "            nn.ReLU(inplace=True),\n",
    "            nn.Linear(32, 64),\n",
    "            nn.ReLU(inplace=True),\n",
    "            nn.Linear(64, 1),\n",
    "        )\n",
    "        \n",
    "    def forward(self, x):\n",
    "        x = self.fc(x)\n",
    "        return x\n",
    "\n",
    "class MOGADataset(Dataset):\n",
    "    def __init__(self, x_tensor, y_tensor):\n",
    "        self.x = x_tensor\n",
    "        self.y = y_tensor\n",
    "    \n",
    "    def __len__(self):\n",
    "        return len(self.x)\n",
    "        \n",
    "    def __getitem__(self, index):\n",
    "        return (self.x[index], self.y[index])"
   ]
  },
  {
   "cell_type": "code",
   "execution_count": 3,
   "metadata": {},
   "outputs": [],
   "source": [
    "# define train and test functions\n",
    "def train(model, device, train_loader, optimizer, criterion):\n",
    "    model.train()\n",
    "    train_loss = 0\n",
    "    \n",
    "    for x, y in train_loader:\n",
    "        x = x.to(device)\n",
    "        y = y.to(device)\n",
    "\n",
    "        # compute output\n",
    "        outputs = model(x)\n",
    "        loss = criterion(outputs, y)\n",
    "        train_loss += loss.item()\n",
    "        \n",
    "        # compute gradient and do SGD step\n",
    "        optimizer.zero_grad()\n",
    "        loss.backward()\n",
    "        optimizer.step()\n",
    "        \n",
    "    train_loss /= len(train_loader)\n",
    "    return train_loss\n",
    "\n",
    "def test(model, device, test_loader, criterion):\n",
    "    model.eval()\n",
    "    test_loss = 0\n",
    "    \n",
    "    with torch.no_grad():\n",
    "        for x, y in test_loader:\n",
    "            x = x.to(device)\n",
    "            y = y.to(device)\n",
    "            \n",
    "            # compute output\n",
    "            outputs = model(x)\n",
    "            loss = criterion(outputs, y)\n",
    "            test_loss += loss.item()\n",
    "            \n",
    "    test_loss /= len(test_loader)\n",
    "    return test_loss"
   ]
  },
  {
   "cell_type": "code",
   "execution_count": 4,
   "metadata": {},
   "outputs": [],
   "source": [
    "# Use CUDA\n",
    "device = torch.device(\"cpu\")\n",
    "\n",
    "random.seed(2020) \n",
    "torch.manual_seed(2020)\n",
    "torch.cuda.manual_seed_all(2020)\n",
    "\n",
    "# load files\n",
    "moga = pickle.load(open(\"ma.0211.pkl\", \"rb\"))\n",
    "x_train, x_test = moga[\"x_train\"], moga[\"x_test\"]\n",
    "y_train, y_test = moga[\"y_train\"], moga[\"y_test\"]\n",
    "x_mean, x_std = moga[\"x_mean\"], moga[\"x_std\"]\n",
    "\n",
    "x_train = torch.from_numpy(x_train).float()\n",
    "y_train = torch.from_numpy(y_train.reshape(-1,1)).float()\n",
    "x_test = torch.from_numpy(x_test).float()\n",
    "y_test = torch.from_numpy(y_test.reshape(-1,1)).float()"
   ]
  },
  {
   "cell_type": "code",
   "execution_count": 5,
   "metadata": {},
   "outputs": [],
   "source": [
    "# Parameters\n",
    "params = {'batch_size': 128,\n",
    "          'shuffle': True,\n",
    "          'num_workers': 4}\n",
    "\n",
    "# dataloader\n",
    "train_data = MOGADataset(x_train, y_train)\n",
    "train_loader = DataLoader(dataset=train_data, **params)\n",
    "\n",
    "test_data = MOGADataset(x_test, y_test)\n",
    "test_loader = DataLoader(dataset=test_data, **params)"
   ]
  },
  {
   "cell_type": "code",
   "execution_count": 6,
   "metadata": {},
   "outputs": [],
   "source": [
    "model = MOGANet().to(device)\n",
    "criterion = nn.MSELoss()\n",
    "optimizer = optim.Adam(model.parameters(), lr=1e-3)\n",
    "scheduler = optim.lr_scheduler.ReduceLROnPlateau(optimizer, mode='min', factor=0.5)"
   ]
  },
  {
   "cell_type": "code",
   "execution_count": 7,
   "metadata": {},
   "outputs": [
    {
     "name": "stdout",
     "output_type": "stream",
     "text": [
      "0 5.429379192176303e-05 4.718390897623907e-06\n",
      "10 7.017116752496708e-07 4.930460457163623e-07\n",
      "20 4.3175683631324555e-07 3.942831178594012e-07\n",
      "30 3.8288177447776197e-07 4.1822090475957186e-07\n",
      "40 3.619298967973101e-07 3.371244749823373e-07\n",
      "50 3.5479088871723114e-07 3.989171792327374e-07\n",
      "60 3.6991652050801933e-07 3.4522303359151414e-07\n",
      "70 3.3366061514939426e-07 3.573373773384758e-07\n",
      "80 3.299903332147592e-07 3.1931083593198964e-07\n",
      "90 3.274291355815965e-07 3.191412317070371e-07\n",
      "100 3.2658674485401e-07 3.3441696384519456e-07\n",
      "110 3.158563434034211e-07 3.0969951864518195e-07\n",
      "120 3.1542455270184096e-07 3.1245047022084016e-07\n",
      "130 3.1003575113364855e-07 3.071993559811847e-07\n",
      "140 3.102622168873125e-07 3.2174444145823745e-07\n",
      "150 3.0641526669790257e-07 3.0886521855495804e-07\n",
      "160 3.063750668629723e-07 3.0201872430987586e-07\n",
      "170 3.0597075859969777e-07 3.014010120744357e-07\n",
      "180 3.0584502523952737e-07 3.0739350620478945e-07\n",
      "190 3.040736159323809e-07 3.000644594178777e-07\n",
      "200 3.031384400340486e-07 2.9944605299490544e-07\n",
      "210 3.030821356366349e-07 3.012772903016261e-07\n",
      "220 3.0279738736731217e-07 2.9989203243015714e-07\n",
      "230 3.0238784944585816e-07 2.9942029660214945e-07\n",
      "240 3.023212099656868e-07 2.9917461829183104e-07\n",
      "250 3.0205686722903396e-07 2.99142920017249e-07\n",
      "260 3.0204377111267655e-07 2.9951502637775036e-07\n",
      "270 3.0200096416325044e-07 2.9920064062019813e-07\n",
      "280 3.018737531742269e-07 2.989086296534981e-07\n",
      "290 3.018610896388328e-07 2.9898341723854597e-07\n",
      "300 3.0174100504340546e-07 2.9899348408445357e-07\n",
      "310 3.0177393045727587e-07 2.990556971710825e-07\n",
      "320 3.017166823972832e-07 2.9886181884365196e-07\n",
      "330 3.0170739752669276e-07 2.989605035982513e-07\n",
      "340 3.016743097744916e-07 2.9892984108054314e-07\n",
      "350 3.017018205799544e-07 2.990866008371821e-07\n",
      "360 3.017234754585982e-07 2.9895145880719144e-07\n",
      "370 3.0172467041600343e-07 2.988621672458343e-07\n",
      "380 3.0169270799438383e-07 2.9900548019018213e-07\n",
      "390 3.017210893806276e-07 2.98960269137321e-07\n",
      "400 3.016917699143159e-07 2.9890518590182044e-07\n",
      "410 3.0168339697509334e-07 2.990300170662652e-07\n",
      "420 3.016896951022514e-07 2.988802757273006e-07\n",
      "430 3.0167999805322996e-07 2.9893901238818945e-07\n",
      "440 3.0168133990159407e-07 2.988813447761e-07\n",
      "450 3.0170093239698867e-07 2.98873716709124e-07\n",
      "460 3.017054299188432e-07 2.9896608203110767e-07\n",
      "470 3.0169330955086527e-07 2.989423002929489e-07\n",
      "480 3.017214263224477e-07 2.989288605315678e-07\n",
      "490 3.016614245388535e-07 2.988940935846448e-07\n"
     ]
    }
   ],
   "source": [
    "# Training here\n",
    "for t in range(500):\n",
    "    train_loss = train(model, device, train_loader, optimizer, criterion) \n",
    "    test_loss = test(model, device, test_loader, criterion)\n",
    "    if t%10 == 0:\n",
    "        print(t, train_loss, test_loss)\n",
    "    \n",
    "    scheduler.step(test_loss)"
   ]
  },
  {
   "cell_type": "code",
   "execution_count": 8,
   "metadata": {},
   "outputs": [],
   "source": [
    "# save trained model\n",
    "torch.save(model.state_dict(), 'ma-0211.pth')\n",
    "#model.load_state_dict(torch.load(\"ma-0211.pth\"))"
   ]
  },
  {
   "cell_type": "code",
   "execution_count": 9,
   "metadata": {},
   "outputs": [
    {
     "name": "stdout",
     "output_type": "stream",
     "text": [
      "test MSE from criterion\n",
      "2.989582128520851e-07\n",
      "test RMSE of original data\n",
      "0.0005467707132355254\n"
     ]
    }
   ],
   "source": [
    "model.eval()\n",
    "Yp = model(x_test)\n",
    "print(\"test MSE from criterion\")\n",
    "MSE = criterion(Yp, y_test).item()\n",
    "print(MSE)\n",
    "\n",
    "Yp = Yp[:,0].detach().numpy()\n",
    "y_test = y_test[:,0].detach().numpy()\n",
    "\n",
    "delta_y = Yp - y_test\n",
    "RMSE = np.sqrt(MSE)\n",
    "print(\"test RMSE of original data\")\n",
    "print(RMSE)"
   ]
  },
  {
   "cell_type": "code",
   "execution_count": 15,
   "metadata": {},
   "outputs": [
    {
     "data": {
      "image/png": "[encoded data removed]",
      "text/plain": [
       "<Figure size 432x288 with 1 Axes>"
      ]
     },
     "metadata": {
      "needs_background": "light"
     },
     "output_type": "display_data"
    }
   ],
   "source": [
    "# plot RMSE\n",
    "plt.figure(figsize=(6,4))\n",
    "num_bins = 200\n",
    "plt.hist(delta_y, num_bins, facecolor='blue')\n",
    "plt.xlabel('Prediction Error')\n",
    "plt.xlim(-0.0015,0.0015)\n",
    "plt.grid(True)\n",
    "plt.title('RMSE: %.4f, N=%d' % (RMSE,len(x_test)))\n",
    "plt.show()"
   ]
  },
  {
   "cell_type": "code",
   "execution_count": 16,
   "metadata": {},
   "outputs": [
    {
     "name": "stdout",
     "output_type": "stream",
     "text": [
      "0.0012999743\n",
      "-0.027380632\n",
      "-0.0125 -0.02883333\n"
     ]
    }
   ],
   "source": [
    "# check mean ans std\n",
    "print(np.std(y_test))\n",
    "print(np.mean(y_test))\n",
    "print(max(y_test), min(y_test))"
   ]
  },
  {
   "cell_type": "code",
   "execution_count": 17,
   "metadata": {},
   "outputs": [
    {
     "data": {
      "image/png": "[encoded data removed]",
      "text/plain": [
       "<Figure size 936x288 with 1 Axes>"
      ]
     },
     "metadata": {
      "needs_background": "light"
     },
     "output_type": "display_data"
    }
   ],
   "source": [
    "# Viz Yp and |Error|\n",
    "l = np.array([x for x in range(len(y_test))])\n",
    "plt.figure(figsize=(13,4))\n",
    "plt.title(\"Blue:Predicted, Red:|Error|\")\n",
    "plt.plot(l, Yp, 'b-', linewidth=1)\n",
    "plt.plot(l, abs(delta_y), 'r-', linewidth=1)\n",
    "plt.grid(True)\n",
    "plt.show()"
   ]
  },
  {
   "cell_type": "code",
   "execution_count": 18,
   "metadata": {},
   "outputs": [
    {
     "data": {
      "image/png": "[encoded data removed]",
      "text/plain": [
       "<Figure size 432x288 with 1 Axes>"
      ]
     },
     "metadata": {
      "needs_background": "light"
     },
     "output_type": "display_data"
    }
   ],
   "source": [
    "# Viz y_test hist\n",
    "plt.figure(figsize=(6,4))\n",
    "num_bins = 200\n",
    "plt.hist(y_test, num_bins, facecolor='blue')\n",
    "plt.xlabel('Y_test histogram')\n",
    "plt.grid(True)\n",
    "plt.show()"
   ]
  },
  {
   "cell_type": "code",
   "execution_count": null,
   "metadata": {},
   "outputs": [],
   "source": []
  }
 ],
 "metadata": {
  "kernelspec": {
   "display_name": "Python 3",
   "language": "python",
   "name": "python3"
  },
  "language_info": {
   "codemirror_mode": {
    "name": "ipython",
    "version": 3
   },
   "file_extension": ".py",
   "mimetype": "text/x-python",
   "name": "python",
   "nbconvert_exporter": "python",
   "pygments_lexer": "ipython3",
   "version": "3.7.5"
  }
 },
 "nbformat": 4,
 "nbformat_minor": 4
}
