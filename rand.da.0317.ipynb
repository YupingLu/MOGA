{
 "cells": [
  {
   "cell_type": "code",
   "execution_count": null,
   "metadata": {},
   "outputs": [],
   "source": [
    "# load libs\n",
    "import torch\n",
    "import torch.nn as nn\n",
    "import torch.optim as optim\n",
    "from torch.utils.data import DataLoader, Dataset\n",
    "import numpy as np\n",
    "import random\n",
    "import matplotlib.pyplot as plt\n",
    "import pickle"
   ]
  },
  {
   "cell_type": "code",
   "execution_count": null,
   "metadata": {},
   "outputs": [],
   "source": [
    "# definition of a simple fc model [2, 32, 64, 1]\n",
    "class MOGANet(nn.Module):\n",
    "    def __init__(self):\n",
    "        super(MOGANet, self).__init__()\n",
    "        self.fc = nn.Sequential(\n",
    "            nn.Linear(2, 32),\n",
    "            nn.ReLU(inplace=True),\n",
    "            nn.Linear(32, 64),\n",
    "            nn.ReLU(inplace=True),\n",
    "            nn.Linear(64, 1),\n",
    "        )\n",
    "        \n",
    "    def forward(self, x):\n",
    "        x = self.fc(x)\n",
    "        return x\n",
    "\n",
    "class MOGADataset(Dataset):\n",
    "    def __init__(self, x_tensor, y_tensor):\n",
    "        self.x = x_tensor\n",
    "        self.y = y_tensor\n",
    "    \n",
    "    def __len__(self):\n",
    "        return len(self.x)\n",
    "        \n",
    "    def __getitem__(self, index):\n",
    "        return (self.x[index], self.y[index])"
   ]
  },
  {
   "cell_type": "code",
   "execution_count": null,
   "metadata": {},
   "outputs": [],
   "source": [
    "# define train and test functions\n",
    "def train(model, device, train_loader, optimizer, criterion):\n",
    "    model.train()\n",
    "    train_loss = 0\n",
    "    \n",
    "    for x, y in train_loader:\n",
    "        x = x.to(device)\n",
    "        y = y.to(device)\n",
    "\n",
    "        # compute output\n",
    "        outputs = model(x)\n",
    "        loss = criterion(outputs, y)\n",
    "        train_loss += loss.item()\n",
    "        \n",
    "        # compute gradient and do SGD step\n",
    "        optimizer.zero_grad()\n",
    "        loss.backward()\n",
    "        optimizer.step()\n",
    "        \n",
    "    train_loss /= len(train_loader)\n",
    "    return train_loss\n",
    "\n",
    "def test(model, device, test_loader, criterion):\n",
    "    model.eval()\n",
    "    test_loss = 0\n",
    "    \n",
    "    with torch.no_grad():\n",
    "        for x, y in test_loader:\n",
    "            x = x.to(device)\n",
    "            y = y.to(device)\n",
    "            \n",
    "            # compute output\n",
    "            outputs = model(x)\n",
    "            loss = criterion(outputs, y)\n",
    "            test_loss += loss.item()\n",
    "            \n",
    "    test_loss /= len(test_loader)\n",
    "    return test_loss"
   ]
  },
  {
   "cell_type": "code",
   "execution_count": null,
   "metadata": {},
   "outputs": [],
   "source": [
    "# Use CUDA\n",
    "device = torch.device(\"cpu\")\n",
    "\n",
    "random.seed(2020) \n",
    "torch.manual_seed(2020)\n",
    "torch.cuda.manual_seed_all(2020)\n",
    "\n",
    "# load files\n",
    "moga = pickle.load(open(\"rand.da.0317.pkl\", \"rb\"))\n",
    "x_train, x_test = moga[\"x_train\"], moga[\"x_test\"]\n",
    "y_train, y_test = moga[\"y_train\"], moga[\"y_test\"]\n",
    "x_mean, x_std = moga[\"x_mean\"], moga[\"x_std\"]\n",
    "\n",
    "x_train = torch.from_numpy(x_train).float()\n",
    "y_train = torch.from_numpy(y_train.reshape(-1,1)).float()\n",
    "x_test = torch.from_numpy(x_test).float()\n",
    "y_test = torch.from_numpy(y_test.reshape(-1,1)).float()"
   ]
  },
  {
   "cell_type": "code",
   "execution_count": null,
   "metadata": {},
   "outputs": [],
   "source": [
    "# Parameters\n",
    "params = {'batch_size': 128,\n",
    "          'shuffle': True,\n",
    "          'num_workers': 4}\n",
    "\n",
    "# dataloader\n",
    "train_data = MOGADataset(x_train, y_train)\n",
    "train_loader = DataLoader(dataset=train_data, **params)\n",
    "\n",
    "test_data = MOGADataset(x_test, y_test)\n",
    "test_loader = DataLoader(dataset=test_data, **params)"
   ]
  },
  {
   "cell_type": "code",
   "execution_count": null,
   "metadata": {},
   "outputs": [],
   "source": [
    "model = MOGANet().to(device)\n",
    "criterion = nn.MSELoss()\n",
    "optimizer = optim.Adam(model.parameters(), lr=1e-3)\n",
    "scheduler = optim.lr_scheduler.ReduceLROnPlateau(optimizer, mode='min', factor=0.5)"
   ]
  },
  {
   "cell_type": "code",
   "execution_count": null,
   "metadata": {},
   "outputs": [],
   "source": [
    "# Training here\n",
    "for t in range(500):\n",
    "    train_loss = train(model, device, train_loader, optimizer, criterion) \n",
    "    test_loss = test(model, device, test_loader, criterion)\n",
    "    if t%10 == 0:\n",
    "        print(t, train_loss, test_loss)\n",
    "    \n",
    "    scheduler.step(test_loss)"
   ]
  },
  {
   "cell_type": "code",
   "execution_count": null,
   "metadata": {},
   "outputs": [],
   "source": [
    "# save trained model\n",
    "torch.save(model.state_dict(), 'rand.da.0317.pth')\n",
    "#model.load_state_dict(torch.load(\"moga-0203.pth\"))"
   ]
  },
  {
   "cell_type": "code",
   "execution_count": null,
   "metadata": {},
   "outputs": [],
   "source": [
    "model.eval()\n",
    "Yp = model(x_test)\n",
    "print(\"test MSE from criterion\")\n",
    "MSE = criterion(Yp, y_test).item()\n",
    "print(MSE)\n",
    "\n",
    "Yp = Yp[:,0].detach().numpy()\n",
    "y_test = y_test[:,0].detach().numpy()\n",
    "\n",
    "delta_y = Yp - y_test\n",
    "RMSE = np.sqrt(MSE)\n",
    "print(\"test RMSE of original data\")\n",
    "print(RMSE)"
   ]
  },
  {
   "cell_type": "code",
   "execution_count": null,
   "metadata": {},
   "outputs": [],
   "source": [
    "# plot RMSE\n",
    "plt.figure(figsize=(6,4))\n",
    "num_bins = 200\n",
    "plt.hist(delta_y, num_bins, facecolor='blue')\n",
    "plt.xlabel('Prediction Error')\n",
    "plt.xlim(-100,100)\n",
    "plt.grid(True)\n",
    "plt.title('RMSE: %.4f, N=%d' % (RMSE,len(x_test)))\n",
    "plt.show()"
   ]
  },
  {
   "cell_type": "code",
   "execution_count": null,
   "metadata": {},
   "outputs": [],
   "source": [
    "# check mean ans std\n",
    "print(np.std(y_test))\n",
    "print(np.mean(y_test))\n",
    "print(max(y_test), min(y_test))"
   ]
  },
  {
   "cell_type": "code",
   "execution_count": null,
   "metadata": {},
   "outputs": [],
   "source": [
    "# Viz Yp and |Error|\n",
    "l = np.array([x for x in range(len(y_test))])\n",
    "plt.figure(figsize=(13,4))\n",
    "plt.title(\"Blue:Predicted, Red:|Error|\")\n",
    "plt.plot(l, Yp, 'b-', linewidth=1)\n",
    "plt.plot(l, abs(delta_y), 'r-', linewidth=1)\n",
    "plt.grid(True)\n",
    "plt.show()"
   ]
  },
  {
   "cell_type": "code",
   "execution_count": null,
   "metadata": {},
   "outputs": [],
   "source": [
    "# Viz y_test hist\n",
    "plt.figure(figsize=(6,4))\n",
    "num_bins = 200\n",
    "plt.hist(y_test, num_bins, facecolor='blue')\n",
    "plt.xlabel('Y_test histogram')\n",
    "plt.grid(True)\n",
    "plt.show()"
   ]
  },
  {
   "cell_type": "code",
   "execution_count": null,
   "metadata": {},
   "outputs": [],
   "source": []
  }
 ],
 "metadata": {
  "kernelspec": {
   "display_name": "Python 3",
   "language": "python",
   "name": "python3"
  },
  "language_info": {
   "codemirror_mode": {
    "name": "ipython",
    "version": 3
   },
   "file_extension": ".py",
   "mimetype": "text/x-python",
   "name": "python",
   "nbconvert_exporter": "python",
   "pygments_lexer": "ipython3",
   "version": "3.7.5"
  }
 },
 "nbformat": 4,
 "nbformat_minor": 4
}
