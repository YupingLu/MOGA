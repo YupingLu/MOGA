{
 "cells": [
  {
   "cell_type": "code",
   "execution_count": 13,
   "metadata": {},
   "outputs": [],
   "source": [
    "import cv2\n",
    "import numpy as np"
   ]
  },
  {
   "cell_type": "code",
   "execution_count": 14,
   "metadata": {},
   "outputs": [],
   "source": [
    "s1 = cv2.imread('1.jpg')\n",
    "s2 = cv2.imread('2.jpg')\n",
    "s3 = cv2.imread('3.jpg')\n",
    "s4 = cv2.imread('4.jpg')\n",
    "s5 = cv2.imread('5.jpg')\n",
    "s6 = cv2.imread('6.jpg')\n",
    "s7 = cv2.imread('7.jpg')\n",
    "s8 = cv2.imread('8.jpg')\n",
    "s9 = cv2.imread('9.jpg')\n",
    "s10 = cv2.imread('10.jpg')\n",
    "s11 = cv2.imread('11.jpg')"
   ]
  },
  {
   "cell_type": "code",
   "execution_count": null,
   "metadata": {},
   "outputs": [],
   "source": [
    "v1 = cv2.imread('1a.jpg')\n",
    "v2 = cv2.imread('2a.jpg')\n",
    "v3 = cv2.imread('3a.jpg')\n",
    "v4 = cv2.imread('4a.jpg')\n",
    "v5 = cv2.imread('5a.jpg')\n",
    "v6 = cv2.imread('6a.jpg')\n",
    "v7 = cv2.imread('7a.jpg')\n",
    "v8 = cv2.imread('8a.jpg')\n",
    "v9 = cv2.imread('9a.jpg')\n",
    "v10 = cv2.imread('10a.jpg')\n",
    "v11 = cv2.imread('11a.jpg')"
   ]
  },
  {
   "cell_type": "code",
   "execution_count": 15,
   "metadata": {},
   "outputs": [
    {
     "data": {
      "text/plain": [
       "True"
      ]
     },
     "execution_count": 15,
     "metadata": {},
     "output_type": "execute_result"
    }
   ],
   "source": [
    "def concat_tile(im_list_2d):\n",
    "    return cv2.vconcat([cv2.hconcat(im_list_h) for im_list_h in im_list_2d])\n",
    "\n",
    "#im1_s = cv2.resize(im1, dsize=(0, 0), fx=0.5, fy=0.5)\n",
    "im_tile = concat_tile([[s1, s2, s3]])\n",
    "cv2.imwrite('a.jpg', im_tile)"
   ]
  },
  {
   "cell_type": "code",
   "execution_count": 16,
   "metadata": {},
   "outputs": [
    {
     "data": {
      "text/plain": [
       "True"
      ]
     },
     "execution_count": 16,
     "metadata": {},
     "output_type": "execute_result"
    }
   ],
   "source": [
    "def concat_tile(im_list_2d):\n",
    "    return cv2.vconcat([cv2.hconcat(im_list_h) for im_list_h in im_list_2d])\n",
    "\n",
    "#im1_s = cv2.resize(im1, dsize=(0, 0), fx=0.5, fy=0.5)\n",
    "im_tile = concat_tile([[s4, s5, s6]])\n",
    "cv2.imwrite('b.jpg', im_tile)"
   ]
  },
  {
   "cell_type": "code",
   "execution_count": 17,
   "metadata": {},
   "outputs": [
    {
     "data": {
      "text/plain": [
       "True"
      ]
     },
     "execution_count": 17,
     "metadata": {},
     "output_type": "execute_result"
    }
   ],
   "source": [
    "def concat_tile(im_list_2d):\n",
    "    return cv2.vconcat([cv2.hconcat(im_list_h) for im_list_h in im_list_2d])\n",
    "\n",
    "#im1_s = cv2.resize(im1, dsize=(0, 0), fx=0.5, fy=0.5)\n",
    "im_tile = concat_tile([[s7, s8, s9]])\n",
    "cv2.imwrite('c.jpg', im_tile)"
   ]
  },
  {
   "cell_type": "code",
   "execution_count": 18,
   "metadata": {},
   "outputs": [
    {
     "data": {
      "text/plain": [
       "True"
      ]
     },
     "execution_count": 18,
     "metadata": {},
     "output_type": "execute_result"
    }
   ],
   "source": [
    "def concat_tile(im_list_2d):\n",
    "    return cv2.vconcat([cv2.hconcat(im_list_h) for im_list_h in im_list_2d])\n",
    "\n",
    "#im1_s = cv2.resize(im1, dsize=(0, 0), fx=0.5, fy=0.5)\n",
    "im_tile = concat_tile([[s10, s11]])\n",
    "cv2.imwrite('d.jpg', im_tile)"
   ]
  },
  {
   "cell_type": "code",
   "execution_count": null,
   "metadata": {},
   "outputs": [],
   "source": []
  }
 ],
 "metadata": {
  "kernelspec": {
   "display_name": "Python 3",
   "language": "python",
   "name": "python3"
  },
  "language_info": {
   "codemirror_mode": {
    "name": "ipython",
    "version": 3
   },
   "file_extension": ".py",
   "mimetype": "text/x-python",
   "name": "python",
   "nbconvert_exporter": "python",
   "pygments_lexer": "ipython3",
   "version": "3.7.9"
  }
 },
 "nbformat": 4,
 "nbformat_minor": 4
}
