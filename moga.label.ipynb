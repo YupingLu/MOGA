{
 "cells": [
  {
   "cell_type": "code",
   "execution_count": 1,
   "metadata": {},
   "outputs": [],
   "source": [
    "# load libs\n",
    "import torch\n",
    "import torch.nn as nn\n",
    "import torch.optim as optim\n",
    "import numpy as np\n",
    "import random\n",
    "import matplotlib.pyplot as plt\n",
    "import pickle\n",
    "#from torch.utils.tensorboard import SummaryWriter"
   ]
  },
  {
   "cell_type": "code",
   "execution_count": 2,
   "metadata": {},
   "outputs": [],
   "source": [
    "# definition of a simple fc model [11, 32, 64, 2]\n",
    "class MOGANet(nn.Module):\n",
    "    def __init__(self):\n",
    "        super(MOGANet, self).__init__()\n",
    "        self.fc = nn.Sequential(\n",
    "            nn.Linear(11, 64),\n",
    "            nn.ReLU(inplace=True),\n",
    "            nn.Linear(64, 128),\n",
    "            nn.ReLU(inplace=True),\n",
    "            nn.Linear(128, 2),\n",
    "        )\n",
    "        \n",
    "    def forward(self, x):\n",
    "        x = self.fc(x)\n",
    "        return x"
   ]
  },
  {
   "cell_type": "code",
   "execution_count": 3,
   "metadata": {},
   "outputs": [],
   "source": [
    "random.seed(2019) \n",
    "torch.manual_seed(2019)\n",
    "torch.cuda.manual_seed_all(2019)\n",
    "\n",
    "model = MOGANet()\n",
    "criterion = nn.CrossEntropyLoss()\n",
    "optimizer = optim.SGD(model.parameters(), lr=0.1, momentum=0.9)\n",
    "scheduler = optim.lr_scheduler.ReduceLROnPlateau(optimizer, mode='min', factor=0.5)"
   ]
  },
  {
   "cell_type": "code",
   "execution_count": 4,
   "metadata": {},
   "outputs": [],
   "source": [
    "# load files\n",
    "moga = pickle.load(open(\"moga.label.pkl\", \"rb\"))\n",
    "x_train, x_test = moga[\"x_train\"], moga[\"x_test\"]\n",
    "y_train, y_test = moga[\"y_train\"], moga[\"y_test\"]"
   ]
  },
  {
   "cell_type": "code",
   "execution_count": 5,
   "metadata": {},
   "outputs": [],
   "source": [
    "x_train = torch.from_numpy(x_train).float()\n",
    "y_train = torch.from_numpy(y_train)\n",
    "x_test = torch.from_numpy(x_test).float()\n",
    "y_test = torch.from_numpy(y_test)"
   ]
  },
  {
   "cell_type": "code",
   "execution_count": 6,
   "metadata": {},
   "outputs": [],
   "source": [
    "# set tensorboard directory\n",
    "#writer = SummaryWriter('/home/ylu/moga/runs/1124')"
   ]
  },
  {
   "cell_type": "code",
   "execution_count": 7,
   "metadata": {},
   "outputs": [],
   "source": [
    "for t in range(2000):\n",
    "    train_acc = 0\n",
    "    test_acc = 0\n",
    "    \n",
    "    model.train()\n",
    "    Yp = model(x_train)\n",
    "    loss = criterion(Yp, y_train)\n",
    "    pred = Yp.max(1)[1] # get the index of the max log-probability\n",
    "    train_acc = pred.eq(y_train).sum().item() / len(Yp)\n",
    "    #print(train_acc)\n",
    "    \n",
    "    optimizer.zero_grad()\n",
    "    loss.backward()\n",
    "    optimizer.step()\n",
    "    \n",
    "    model.eval()\n",
    "    with torch.no_grad():\n",
    "        Yp_test = model(x_test)\n",
    "        test_loss = criterion(Yp_test, y_test)\n",
    "        pred = Yp_test.max(1)[1] # get the index of the max log-probability\n",
    "        test_acc = pred.eq(y_test).sum().item() / len(Yp_test)\n",
    "        #print(test_acc)\n",
    "        scheduler.step(test_loss)\n",
    "        \n",
    "    #writer.add_scalars('Loss', {'train':train_acc,'test':test_acc}, t)"
   ]
  },
  {
   "cell_type": "code",
   "execution_count": 8,
   "metadata": {},
   "outputs": [],
   "source": [
    "# save trained model\n",
    "torch.save(model.state_dict(), 'moga-label-1124.pth')"
   ]
  },
  {
   "cell_type": "code",
   "execution_count": 9,
   "metadata": {},
   "outputs": [
    {
     "name": "stdout",
     "output_type": "stream",
     "text": [
      "0.8155357142857143\n"
     ]
    }
   ],
   "source": [
    "model.eval()\n",
    "with torch.no_grad():\n",
    "    Yp = model(x_test)\n",
    "    pred = Yp.max(1)[1] # get the index of the max log-probability\n",
    "    print(pred.eq(y_test).sum().item() / len(Yp))"
   ]
  },
  {
   "cell_type": "code",
   "execution_count": null,
   "metadata": {},
   "outputs": [],
   "source": []
  }
 ],
 "metadata": {
  "kernelspec": {
   "display_name": "Python 3",
   "language": "python",
   "name": "python3"
  },
  "language_info": {
   "codemirror_mode": {
    "name": "ipython",
    "version": 3
   },
   "file_extension": ".py",
   "mimetype": "text/x-python",
   "name": "python",
   "nbconvert_exporter": "python",
   "pygments_lexer": "ipython3",
   "version": "3.7.3"
  }
 },
 "nbformat": 4,
 "nbformat_minor": 4
}
